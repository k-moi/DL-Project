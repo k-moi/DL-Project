{
 "cells": [
  {
   "cell_type": "markdown",
   "metadata": {
    "id": "NbI_RoQ9AP5r"
   },
   "source": [
    "#**스마트폰 센서 데이터 기반 모션 분류**\n",
    "# 단계3 : 단계별 모델링\n"
   ]
  },
  {
   "cell_type": "markdown",
   "metadata": {
    "id": "JmtZXcVs0IXm"
   },
   "source": [
    "## 0.미션4"
   ]
  },
  {
   "cell_type": "markdown",
   "metadata": {
    "id": "1Q7N3tIf0IXn"
   },
   "source": [
    "* 단계별로 나눠서 모델링을 수행하고자 합니다.  \n",
    "* 단계 구분 예시\n",
    "    * 단계1 : 정적(0), 동적(1) 행동 분류 모델 생성\n",
    "    * 단계2 : 세부 동작에 대한 분류모델 생성\n",
    "        * 단계1 모델에서 0으로 예측 -> 정적 행동 3가지 분류 모델링\n",
    "        * 단계1 모델에서 1으로 예측 -> 동적 행동 3가지 분류 모델링\n",
    "* 모델 통합\n",
    "    * 두 단계 모델을 통합하고, 새로운 데이터에 대해서 최종 예측결과와 성능평가가 나오도록 함수로 만들기\n",
    "* 성능 비교\n",
    "    * 기본 모델링의 성능과 비교\n",
    "    * 성능 가이드\n",
    "        * Accuracy : 0.97 ~ 0.99\n",
    "* 파이프라인 구성\n",
    "    * test 데이터를 입력하여, 전처리 및 예측결과가 나오도록 함수 구성"
   ]
  },
  {
   "cell_type": "markdown",
   "metadata": {
    "id": "rgiFiMnzd3Jn"
   },
   "source": [
    "## 1.환경설정"
   ]
  },
  {
   "cell_type": "markdown",
   "metadata": {
    "id": "0fDUoBYfd3Jx"
   },
   "source": [
    "* 세부 요구사항\n",
    "    - 경로 설정 : 구글콜랩\n",
    "        * 구글 드라이브 바로 밑에 project3 폴더를 만들고,\n",
    "        * 데이터 파일을 복사해 넣습니다.\n",
    "    - 기본적으로 필요한 라이브러리를 import 하도록 코드가 작성되어 있습니다.\n",
    "        * 필요하다고 판단되는 라이브러리를 추가하세요.\n"
   ]
  },
  {
   "cell_type": "markdown",
   "metadata": {
    "id": "EP6x0_Qrd3Jx"
   },
   "source": [
    "### (1) 경로 설정"
   ]
  },
  {
   "cell_type": "markdown",
   "metadata": {
    "id": "Nc5ajfyHd3Jx"
   },
   "source": [
    "* 구글 드라이브 연결"
   ]
  },
  {
   "cell_type": "markdown",
   "metadata": {
    "id": "Tqpjn1W3d3Jx"
   },
   "source": [
    "### (2) 라이브러리 불러오기"
   ]
  },
  {
   "cell_type": "markdown",
   "metadata": {
    "id": "-ZxRcPNqd3Jy"
   },
   "source": [
    "* 라이브러리 로딩"
   ]
  },
  {
   "cell_type": "code",
   "execution_count": null,
   "metadata": {
    "id": "___ks_QAd3Jy"
   },
   "outputs": [],
   "source": [
    "import pandas as pd\n",
    "import numpy as np\n",
    "import matplotlib.pyplot as plt\n",
    "import seaborn as sns\n",
    "\n",
    "import joblib\n",
    "from tqdm import tqdm\n",
    "\n",
    "from sklearn.model_selection import train_test_split\n",
    "from sklearn.preprocessing import MinMaxScaler, LabelEncoder\n",
    "from sklearn.metrics import *\n",
    "\n",
    "from keras.models import Sequential,Model, load_model\n",
    "from keras.layers import Dense, Flatten, Dropout, Input\n",
    "from keras.backend import clear_session\n",
    "from keras.optimizers import Adam\n",
    "from keras import regularizers\n",
    "from keras.callbacks import EarlyStopping,ModelCheckpoint"
   ]
  },
  {
   "cell_type": "code",
   "execution_count": null,
   "metadata": {
    "id": "3c4JgiEbNKfo"
   },
   "outputs": [],
   "source": [
    "# 학습곡선 함수\n",
    "def dl_history_plot(history):\n",
    "    plt.figure(figsize=(10,6))\n",
    "    plt.plot(history['loss'], label='train_err', marker = '.')\n",
    "    plt.plot(history['val_loss'], label='val_err', marker = '.')\n",
    "\n",
    "    plt.ylabel('Loss')\n",
    "    plt.xlabel('Epoch')\n",
    "    plt.legend()\n",
    "    plt.grid()\n",
    "    plt.show()"
   ]
  },
  {
   "cell_type": "markdown",
   "metadata": {
    "id": "bA-eHXdwBDCz"
   },
   "source": [
    "### (3) 데이터 불러오기"
   ]
  },
  {
   "cell_type": "markdown",
   "metadata": {
    "id": "tDueQoA3d3Jy"
   },
   "source": [
    "* 주어진 데이터셋\n",
    "    * data01_train.csv : 학습 및 검증용\n",
    "    * data01_test.csv : 테스트용\n",
    "    * feature.csv : feature 이름을 계층구조로 정리한 데이터\n",
    "\n",
    "* 세부 요구사항\n",
    "    * 칼럼 삭제 : data01_train.csv와 data01_test.csv 에서 'subject' 칼럼은 불필요하므로 삭제합니다."
   ]
  },
  {
   "cell_type": "markdown",
   "metadata": {
    "id": "fmgUEGOipvG5"
   },
   "source": [
    "#### 1) 데이터로딩"
   ]
  },
  {
   "cell_type": "markdown",
   "metadata": {
    "id": "aI7qJqz3pr3m"
   },
   "source": [
    "#### 2) 기본 정보 조회"
   ]
  },
  {
   "cell_type": "markdown",
   "metadata": {
    "id": "O38e5xai7SIW"
   },
   "source": [
    "## 2.데이터 전처리"
   ]
  },
  {
   "cell_type": "markdown",
   "metadata": {
    "id": "5vKH3MU30d8H"
   },
   "source": [
    "* 세부 요구사항\n",
    "    - Label 추가 : 1단계 모델을 위한 레이블 추가\n",
    "    - train : val = 8 : 2 혹은 7 : 3\n",
    "    - random_state 옵션을 사용하여 다른 모델과 비교를 위해 성능이 재현되도록 합니다."
   ]
  },
  {
   "cell_type": "markdown",
   "metadata": {
    "id": "wHxeKHxze2uL"
   },
   "source": [
    "### (1) 1단계 모델링을 위한 레이블"
   ]
  },
  {
   "cell_type": "markdown",
   "metadata": {
    "id": "uAsBmDupKQX8"
   },
   "source": [
    "### (2) x, y 분리"
   ]
  },
  {
   "cell_type": "markdown",
   "metadata": {
    "id": "A8hxVzM3Agvw"
   },
   "source": [
    "### (3) 스케일링\n"
   ]
  },
  {
   "cell_type": "markdown",
   "metadata": {
    "id": "8OHAQJ9HJZP8"
   },
   "source": [
    "* 세부 요구사항\n",
    "    - 스케일링을 필요로 하는 알고리즘 사용을 위해서 코드 수행\n",
    "    - min-max 방식 혹은 standard 방식 중 한가지 사용."
   ]
  },
  {
   "cell_type": "markdown",
   "metadata": {
    "id": "TH_rqRv6jA9V"
   },
   "source": [
    "### (4) 데이터 분할\n",
    "* train, val 분할"
   ]
  },
  {
   "cell_type": "markdown",
   "metadata": {
    "id": "bue7ZTLABQzi"
   },
   "source": [
    "## **3.단계별 모델링**"
   ]
  },
  {
   "cell_type": "markdown",
   "metadata": {
    "id": "fCpsgFz40pJ3"
   },
   "source": [
    "### (1) 단계1"
   ]
  },
  {
   "cell_type": "markdown",
   "metadata": {
    "id": "JtwoYR2e0pJ3"
   },
   "source": [
    "* 세부 요구사항\n",
    "    * 적절한 단계로 구분한 후, 1단계를 분류하는 모델 생성\n",
    "        * 예시 : 정적 행동(Laying, Sitting, Standing)과 동적 행동(동적 : Walking, Walking-Up, Walking-Down)을 구분하는 모델 생성.\n",
    "    * 몇 가지 모델을 만들고 가장 성능이 좋은 모델을 선정하시오."
   ]
  },
  {
   "cell_type": "markdown",
   "metadata": {
    "id": "cWYtB_nUD6zu"
   },
   "source": [
    "#### 1) 모델1"
   ]
  },
  {
   "cell_type": "markdown",
   "metadata": {
    "id": "Xo6HcoOUh8I5"
   },
   "source": [
    "# 2) 이진분류 모델 통합본"
   ]
  },
  {
   "cell_type": "code",
   "execution_count": null,
   "metadata": {
    "id": "rgQFTyrn0uLA"
   },
   "outputs": [],
   "source": [
    "# 데이터 불러오기\n",
    "data = pd.read_csv('data01_train.csv')\n",
    "test = pd.read_csv('data01_test.csv')\n",
    "\n",
    "# subject 컬럼 제거\n",
    "data.drop(columns='subject',inplace = True)\n",
    "test.drop(columns='subject',inplace = True)\n",
    "\n",
    "\n",
    "# 타켓 설정\n",
    "target = 'Activity'\n",
    "\n",
    "# x ,y 분리\n",
    "x = data.drop(columns=target, axis =1)\n",
    "y = data[target]\n",
    "\n",
    "#  y mapping\n",
    "y = y.map({'STANDING':0, 'SITTING':0, 'LAYING':0,\n",
    "                  'WALKING':1, 'WALKING_UPSTAIRS':1, 'WALKING_DOWNSTAIRS':1})\n",
    "\n",
    "# 스케일러\n",
    "scaler = MinMaxScaler()\n",
    "x = scaler.fit_transform(x)\n",
    "\n",
    "# train , val 분리\n",
    "x_train, x_val, y_train, y_val  = train_test_split(x,y, test_size=.2)\n",
    "\n",
    "# 입력정리\n",
    "nfeatures = x_train.shape[1]\n",
    "\n",
    "# 모델 정의 functional\n",
    "\n",
    "il = Input(shape = (nfeatures,))\n",
    "hl1 = Dense(512, activation='relu')(il)\n",
    "hl2 = Dense(256, activation='relu')(hl1)\n",
    "hl3 = Dense(128, activation='relu')(hl2)\n",
    "hl4 = Dense(64, activation='relu')(hl3)\n",
    "hl5 = Dense(32, activation='relu')(hl4)\n",
    "ol = Dense(1, activation='sigmoid')(hl5)\n",
    "\n",
    "model = Model(inputs = il, outputs = ol)\n",
    "\n",
    "# 컴파일, 학습\n",
    "er = EarlyStopping(monitor='val_loss', min_delta=0.0001, patience=3)\n",
    "\n",
    "best_model_path = \"best_model_binary_final.keras\"\n",
    "\n",
    "mc = ModelCheckpoint(best_model_path, monitor='val_loss', save_best_only=True, mode='max')\n",
    "\n",
    "model.compile(optimizer=Adam(learning_rate = 0.001), loss = 'binary_crossentropy', metrics = ['accuracy'])\n",
    "\n",
    "result = model.fit(x_train, y_train, epochs = 100, validation_split= 0.2 , callbacks = [er,mc] ,verbose = 0).history # , callbacks = [er,mc]\n",
    "\n",
    "# 학습곡선\n",
    "dl_history_plot(result)\n",
    "\n",
    "pred = model.predict(x_val)\n",
    "\n",
    "pred = np.where(pred >=0.5 , 1, 0)\n",
    "\n",
    "# 성능평가\n",
    "print(accuracy_score(y_val, pred))\n",
    "print(confusion_matrix(y_val, pred))\n",
    "print(classification_report(y_val, pred))\n",
    "\n"
   ]
  },
  {
   "cell_type": "markdown",
   "metadata": {
    "id": "Mjl9LNyQ0uIm"
   },
   "source": [
    "# \"best_model_final.keras\" (동적, 정적)"
   ]
  },
  {
   "cell_type": "markdown",
   "metadata": {
    "id": "cK9A9XmW0pJ8"
   },
   "source": [
    "### (2) 단계2"
   ]
  },
  {
   "cell_type": "markdown",
   "metadata": {
    "id": "uPFEN7aniicS"
   },
   "source": [
    "#### 1) 단계2-1 : 정적 동작 세부 분류"
   ]
  },
  {
   "cell_type": "markdown",
   "metadata": {
    "id": "S8v3DgDX0pJ8"
   },
   "source": [
    "* 세부 요구사항\n",
    "    * 정적 행동(Laying, Sitting, Standing)인 데이터 추출\n",
    "    * Laying, Sitting, Standing 를 분류하는 모델을 생성\n",
    "    * 몇가지 모델을 만들고 가장 성능이 좋은 모델을 선정하시오."
   ]
  },
  {
   "cell_type": "code",
   "execution_count": null,
   "metadata": {
    "id": "PY2uBvF90ynr"
   },
   "outputs": [],
   "source": [
    "# 동적 모델 (3개씩 끊은 데이터프레임)\n",
    "\n",
    "# 데이터 불러오기\n",
    "dynamic =  pd.read_csv('data01_train.csv')\n",
    "\n",
    "# 필요 없는 행 제거\n",
    "dynamic.drop(columns='subject',inplace = True)\n",
    "\n",
    "#  동적 데이터 생성\n",
    "dynamic.drop(dynamic[dynamic['Activity'].isin([ 'LAYING' , 'STANDING' , 'SITTING' ])].index, inplace=True) # 정적 라벨들을 제거  => 동적데이터\n",
    "\n",
    "# na 값 제거\n",
    "dynamic = dynamic.dropna()\n",
    "\n",
    "# 타켓 설정\n",
    "target = 'Activity'\n",
    "\n",
    "# x, y 분리\n",
    "x = dynamic.drop(target, axis = 1)\n",
    "y = dynamic.loc[:, target]\n",
    "\n",
    "# x 스케일러\n",
    "scaler_d = MinMaxScaler()\n",
    "x= scaler_d.fit_transform(x)\n",
    "\n",
    "# y 라벨 인코터 (동적 y만)\n",
    "le_d = LabelEncoder()\n",
    "y = le_d.fit_transform(y)\n",
    "\n",
    "# train, val 분리\n",
    "x_train_d, x_val_d, y_train_d, y_val_d = train_test_split(x, y, test_size=0.3)\n",
    "\n",
    "# 입력 정리\n",
    "nfeatures_s = x_train_d.shape[1]\n",
    "\n",
    "# 모델 정의 functional\n",
    "il = Input(shape = (nfeatures,))\n",
    "hl1 = Dense(512, activation='relu')(il)\n",
    "hl2 = Dense(256, activation='relu')(hl1)\n",
    "hl3 = Dense(128, activation='relu')(hl2)\n",
    "hl4 = Dense(64, activation='relu')(hl3)\n",
    "hl5 = Dense(32, activation='relu')(hl4)\n",
    "ol = Dense(3, activation='softmax')(hl5)\n",
    "\n",
    "model = Model(inputs = il, outputs = ol)\n",
    "\n",
    "# 컴파일, 학습\n",
    "er = EarlyStopping(monitor='val_loss', min_delta=0.0001, patience=3)\n",
    "\n",
    "best_model_path = \"best_model_dynamic_final.keras\"\n",
    "\n",
    "mc = ModelCheckpoint(best_model_path, monitor='val_loss', save_best_only=True, mode='max')\n",
    "\n",
    "model.compile(optimizer=Adam(learning_rate = 0.001), loss = 'sparse_categorical_crossentropy', metrics = ['accuracy'])\n",
    "\n",
    "result = model.fit(x_train_d, y_train_d, epochs = 100, validation_split= 0.2, callbacks = [er,mc], verbose = 0).history\n",
    "\n",
    "# 학습곡선\n",
    "dl_history_plot(result)\n",
    "\n",
    "pred = model.predict(x_val_d)\n",
    "\n",
    "pred = pred.argmax(axis = 1)\n",
    "\n",
    "# 성능평가\n",
    "print(accuracy_score(y_val_d, pred))\n",
    "print(confusion_matrix(y_val_d, pred))\n",
    "print(classification_report(y_val_d, pred))"
   ]
  },
  {
   "cell_type": "markdown",
   "metadata": {
    "id": "WFaqIRAy0pJ-"
   },
   "source": [
    "#### 2) 단계2-2 : 동적 동작 세부 분류"
   ]
  },
  {
   "cell_type": "markdown",
   "metadata": {
    "id": "dwGTMsJ60pJ-"
   },
   "source": [
    "* 세부 요구사항\n",
    "    * 동동적 행동(Walking, Walking Upstairs, Walking Downstairs)인 데이터 추출\n",
    "    * Walking, Walking Upstairs, Walking Downstairs 를 분류하는 모델을 생성\n",
    "    * 몇가지 모델을 만들고 가장 성능이 좋은 모델을 선정하시오."
   ]
  },
  {
   "cell_type": "code",
   "execution_count": null,
   "metadata": {},
   "outputs": [],
   "source": [
    "# 정적 모델 (3개씩 끊은 데이터프레임)\n",
    "static =  pd.read_csv('data01_train.csv')\n",
    "\n",
    "# subjec 컬럼 제거\n",
    "static.drop(columns='subject',inplace = True)\n",
    "\n",
    "# 정적 데이터 생성\n",
    "static.drop(static[static['Activity'].isin([ 'WALKING', 'WALKING_UPSTAIRS', 'WALKING_DOWNSTAIRS'])].index, inplace=True) # 정적라벨을 제거 : 동적 데이터\n",
    "\n",
    "# na 값 제거\n",
    "static = static.dropna()\n",
    "\n",
    "# 타켓 설정\n",
    "target = 'Activity'\n",
    "\n",
    "# x, y 분리\n",
    "x = static.drop(target, axis = 1)\n",
    "y = static.loc[:, target]\n",
    "\n",
    "# x 스케일링\n",
    "scaler_s = MinMaxScaler()\n",
    "x= scaler_s.fit_transform(x)\n",
    "\n",
    "# y 인코더\n",
    "le_s = LabelEncoder()\n",
    "y = le_s.fit_transform(y)\n",
    "\n",
    "# x,y 분리\n",
    "x_train_s, x_val_s, y_train_s, y_val_s = train_test_split(x, y, test_size=0.3)\n",
    "\n",
    "# 입력 정리\n",
    "nfeatures_s = x_train_s.shape[1]\n",
    "\n",
    "# 모델 정의 functional\n",
    "il = Input(shape = (nfeatures,))\n",
    "hl1 = Dense(512, activation='relu')(il)\n",
    "hl2 = Dense(256, activation='relu')(hl1)\n",
    "hl3 = Dense(128, activation='relu')(hl2)\n",
    "hl4 = Dense(64, activation='relu')(hl3)\n",
    "hl5 = Dense(32, activation='relu')(hl4)\n",
    "ol = Dense(3, activation='softmax')(hl5)\n",
    "\n",
    "model = Model(inputs = il, outputs = ol)\n",
    "\n",
    "# 컴파일, 학습\n",
    "er = EarlyStopping(monitor='val_loss', min_delta=0.0001, patience=3)\n",
    "\n",
    "best_model_path = \"best_model_static_final.keras\"\n",
    "\n",
    "mc = ModelCheckpoint(best_model_path, monitor='val_loss', save_best_only=True, mode='max')\n",
    "\n",
    "model.compile(optimizer=Adam(learning_rate = 0.001), loss = 'sparse_categorical_crossentropy', metrics = ['accuracy'])\n",
    "\n",
    "result = model.fit(x_train_s, y_train_s, epochs = 100, validation_split= 0.2, callbacks = [er,mc],verbose = 0).history\n",
    "\n",
    "# 학습곡선\n",
    "dl_history_plot(result)\n",
    "\n",
    "pred = model.predict(x_val_s)\n",
    "\n",
    "pred = pred.argmax(axis = 1)\n",
    "\n",
    "# 성능평가\n",
    "print(accuracy_score(y_val_s, pred))\n",
    "print(confusion_matrix(y_val_s, pred))\n",
    "print(classification_report(y_val_s, pred))"
   ]
  },
  {
   "cell_type": "markdown",
   "metadata": {
    "id": "G0vxLxBy1MHk"
   },
   "source": [
    "### (3) 분류 모델 파이프라인 구성\n"
   ]
  },
  {
   "cell_type": "markdown",
   "metadata": {
    "id": "6ypgwVbm1MHl"
   },
   "source": [
    "* 세부 요구사항\n",
    "    * 두 단계 모델을 통합하고, 새로운 데이터(test)에 대해서 최종 예측결과와 성능평가가 나오도록 함수로 만들기\n",
    "    * 데이터 파이프라인 구축 : test데이터가 로딩되어 전처리 과정을 거치고, 예측 및 성능 평가 수행"
   ]
  },
  {
   "cell_type": "markdown",
   "metadata": {
    "id": "J6mVuIA51MHm"
   },
   "source": [
    "* 예시\n",
    "![](https://github.com/DA4BAM/image/blob/main/pipeline%20function.png?raw=true)"
   ]
  },
  {
   "cell_type": "markdown",
   "metadata": {
    "id": "Re6LpNYhi5d3"
   },
   "source": [
    "#### 1) 함수 만들기"
   ]
  },
  {
   "cell_type": "code",
   "execution_count": null,
   "metadata": {
    "id": "THvjpwK31MHn"
   },
   "outputs": [],
   "source": [
    "def final_project():\n",
    "         # test 불러오기\n",
    "        test = pd.read_csv('data01_test.csv')\n",
    "        \n",
    "        # tess의 subject 제거\n",
    "        test.drop(columns='subject',inplace = True)\n",
    "        \n",
    "        target = 'Activity'\n",
    "        \n",
    "        scaler = MinMaxScaler()\n",
    "        le = LabelEncoder()\n",
    "        \n",
    "        x = test.drop(columns=target)\n",
    "        \n",
    "        y = test[target]\n",
    "        \n",
    "        x = scaler.fit_transform(x)\n",
    "        y = le.fit_transform(y)\n",
    "        \n",
    "        binary_model = load_model('best_model_binary_final.keras')\n",
    "        \n",
    "        binary_value = binary_model.predict(x)\n",
    "        \n",
    "        binary_value = np.where(binary_value > .5, 1, 0)\n",
    "        \n",
    "        test['is_dynamic'] = binary_value\n",
    "        \n",
    "        incorrect_count = 0\n",
    "        \n",
    "        # 제거 조건 설정\n",
    "        condition1 = (test['is_dynamic'] == 0) & (test['Activity'].isin(['WALKING', 'WALKING_UPSTAIRS', 'WALKING_DOWNSTAIRS']))\n",
    "        condition2 = (test['is_dynamic'] == 1) & (test['Activity'].isin(['LAYING', 'SITTING', 'STANDING']))\n",
    "        \n",
    "        # 조건에 맞는 행을 제거하면서 카운트 업데이트\n",
    "        rows_to_remove = test[condition1 | condition2]\n",
    "        incorrect_count += len(rows_to_remove)\n",
    "        \n",
    "        # 행 제거\n",
    "        test = test.drop(rows_to_remove.index)\n",
    "        # print(test.head())\n",
    "        print(binary_value)\n",
    "        ############################################################\n",
    "        \n",
    "        # test 0 , 1 분리\n",
    "        test0 = test.loc[test['is_dynamic'] == 0]\n",
    "        test1 = test.loc[test['is_dynamic'] == 1]\n",
    "        \n",
    "        # 버리기\n",
    "        test0.drop(columns='is_dynamic', inplace = True)\n",
    "        test1.drop(columns='is_dynamic', inplace = True)\n",
    "        \n",
    "        # x,y 분리\n",
    "        x0 = test0.drop(columns = 'Activity')\n",
    "        y0 = test0['Activity']\n",
    "        \n",
    "        x1 = test1.drop(columns = 'Activity')\n",
    "        y1 = test1['Activity']\n",
    "        \n",
    "        # 스케일링\n",
    "        x0 = scaler.fit_transform(x0)\n",
    "        x1 = scaler.fit_transform(x1)\n",
    "        \n",
    "        #y값\n",
    "        y0 = le.fit_transform(y0)\n",
    "        y1 = le.fit_transform(y1)\n",
    "        \n",
    "        static_model = load_model('best_model_static_final.keras')\n",
    "        static_value = static_model.predict(x0,verbose = 0)\n",
    "        static_value = static_value.argmax(axis = 1)\n",
    "        \n",
    "        dynamic_model = load_model('best_model_dynamic_final.keras')\n",
    "        dynamic_value = dynamic_model.predict(x1,verbose = 0)\n",
    "        dynamic_value = dynamic_value.argmax(axis = 1)\n",
    "\n",
    "        print(accuracy_score(static_value, y0))\n",
    "        print(confusion_matrix(static_value, y0))\n",
    "\n",
    "        print(accuracy_score(dynamic_value, y1))\n",
    "        print(confusion_matrix(dynamic_value, y1))\n",
    "\n",
    "final_project()"
   ]
  },
  {
   "cell_type": "markdown",
   "metadata": {
    "id": "pk2Efe1K1MHn"
   },
   "source": [
    "#### 2) test 셋으로 예측하고 평가하기"
   ]
  }
 ],
 "metadata": {
  "colab": {
   "provenance": [],
   "toc_visible": true
  },
  "kernelspec": {
   "display_name": "Python 3 (ipykernel)",
   "language": "python",
   "name": "python3"
  },
  "language_info": {
   "codemirror_mode": {
    "name": "ipython",
    "version": 3
   },
   "file_extension": ".py",
   "mimetype": "text/x-python",
   "name": "python",
   "nbconvert_exporter": "python",
   "pygments_lexer": "ipython3",
   "version": "3.12.4"
  }
 },
 "nbformat": 4,
 "nbformat_minor": 4
}
